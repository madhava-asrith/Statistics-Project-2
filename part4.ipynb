{
 "cells": [
  {
   "cell_type": "code",
   "execution_count": 88,
   "id": "f68e8ffa",
   "metadata": {},
   "outputs": [],
   "source": [
    "import numpy as np\n",
    "import pandas as pd"
   ]
  },
  {
   "cell_type": "code",
   "execution_count": 89,
   "id": "5aaae272",
   "metadata": {},
   "outputs": [],
   "source": [
    "db = pd.read_csv(\"data.csv\")"
   ]
  },
  {
   "cell_type": "code",
   "execution_count": 90,
   "id": "be7815ff",
   "metadata": {},
   "outputs": [
    {
     "data": {
      "text/html": [
       "<div>\n",
       "<style scoped>\n",
       "    .dataframe tbody tr th:only-of-type {\n",
       "        vertical-align: middle;\n",
       "    }\n",
       "\n",
       "    .dataframe tbody tr th {\n",
       "        vertical-align: top;\n",
       "    }\n",
       "\n",
       "    .dataframe thead th {\n",
       "        text-align: right;\n",
       "    }\n",
       "</style>\n",
       "<table border=\"1\" class=\"dataframe\">\n",
       "  <thead>\n",
       "    <tr style=\"text-align: right;\">\n",
       "      <th></th>\n",
       "      <th>id</th>\n",
       "      <th>diagnosis</th>\n",
       "      <th>radius_mean</th>\n",
       "      <th>texture_mean</th>\n",
       "      <th>perimeter_mean</th>\n",
       "      <th>area_mean</th>\n",
       "      <th>smoothness_mean</th>\n",
       "      <th>compactness_mean</th>\n",
       "      <th>concavity_mean</th>\n",
       "      <th>concave points_mean</th>\n",
       "      <th>...</th>\n",
       "      <th>texture_worst</th>\n",
       "      <th>perimeter_worst</th>\n",
       "      <th>area_worst</th>\n",
       "      <th>smoothness_worst</th>\n",
       "      <th>compactness_worst</th>\n",
       "      <th>concavity_worst</th>\n",
       "      <th>concave points_worst</th>\n",
       "      <th>symmetry_worst</th>\n",
       "      <th>fractal_dimension_worst</th>\n",
       "      <th>Unnamed: 32</th>\n",
       "    </tr>\n",
       "  </thead>\n",
       "  <tbody>\n",
       "    <tr>\n",
       "      <th>0</th>\n",
       "      <td>842302</td>\n",
       "      <td>M</td>\n",
       "      <td>17.99</td>\n",
       "      <td>10.38</td>\n",
       "      <td>122.80</td>\n",
       "      <td>1001.0</td>\n",
       "      <td>0.11840</td>\n",
       "      <td>0.27760</td>\n",
       "      <td>0.3001</td>\n",
       "      <td>0.14710</td>\n",
       "      <td>...</td>\n",
       "      <td>17.33</td>\n",
       "      <td>184.60</td>\n",
       "      <td>2019.0</td>\n",
       "      <td>0.1622</td>\n",
       "      <td>0.6656</td>\n",
       "      <td>0.7119</td>\n",
       "      <td>0.2654</td>\n",
       "      <td>0.4601</td>\n",
       "      <td>0.11890</td>\n",
       "      <td>NaN</td>\n",
       "    </tr>\n",
       "    <tr>\n",
       "      <th>1</th>\n",
       "      <td>842517</td>\n",
       "      <td>M</td>\n",
       "      <td>20.57</td>\n",
       "      <td>17.77</td>\n",
       "      <td>132.90</td>\n",
       "      <td>1326.0</td>\n",
       "      <td>0.08474</td>\n",
       "      <td>0.07864</td>\n",
       "      <td>0.0869</td>\n",
       "      <td>0.07017</td>\n",
       "      <td>...</td>\n",
       "      <td>23.41</td>\n",
       "      <td>158.80</td>\n",
       "      <td>1956.0</td>\n",
       "      <td>0.1238</td>\n",
       "      <td>0.1866</td>\n",
       "      <td>0.2416</td>\n",
       "      <td>0.1860</td>\n",
       "      <td>0.2750</td>\n",
       "      <td>0.08902</td>\n",
       "      <td>NaN</td>\n",
       "    </tr>\n",
       "    <tr>\n",
       "      <th>2</th>\n",
       "      <td>84300903</td>\n",
       "      <td>M</td>\n",
       "      <td>19.69</td>\n",
       "      <td>21.25</td>\n",
       "      <td>130.00</td>\n",
       "      <td>1203.0</td>\n",
       "      <td>0.10960</td>\n",
       "      <td>0.15990</td>\n",
       "      <td>0.1974</td>\n",
       "      <td>0.12790</td>\n",
       "      <td>...</td>\n",
       "      <td>25.53</td>\n",
       "      <td>152.50</td>\n",
       "      <td>1709.0</td>\n",
       "      <td>0.1444</td>\n",
       "      <td>0.4245</td>\n",
       "      <td>0.4504</td>\n",
       "      <td>0.2430</td>\n",
       "      <td>0.3613</td>\n",
       "      <td>0.08758</td>\n",
       "      <td>NaN</td>\n",
       "    </tr>\n",
       "    <tr>\n",
       "      <th>3</th>\n",
       "      <td>84348301</td>\n",
       "      <td>M</td>\n",
       "      <td>11.42</td>\n",
       "      <td>20.38</td>\n",
       "      <td>77.58</td>\n",
       "      <td>386.1</td>\n",
       "      <td>0.14250</td>\n",
       "      <td>0.28390</td>\n",
       "      <td>0.2414</td>\n",
       "      <td>0.10520</td>\n",
       "      <td>...</td>\n",
       "      <td>26.50</td>\n",
       "      <td>98.87</td>\n",
       "      <td>567.7</td>\n",
       "      <td>0.2098</td>\n",
       "      <td>0.8663</td>\n",
       "      <td>0.6869</td>\n",
       "      <td>0.2575</td>\n",
       "      <td>0.6638</td>\n",
       "      <td>0.17300</td>\n",
       "      <td>NaN</td>\n",
       "    </tr>\n",
       "    <tr>\n",
       "      <th>4</th>\n",
       "      <td>84358402</td>\n",
       "      <td>M</td>\n",
       "      <td>20.29</td>\n",
       "      <td>14.34</td>\n",
       "      <td>135.10</td>\n",
       "      <td>1297.0</td>\n",
       "      <td>0.10030</td>\n",
       "      <td>0.13280</td>\n",
       "      <td>0.1980</td>\n",
       "      <td>0.10430</td>\n",
       "      <td>...</td>\n",
       "      <td>16.67</td>\n",
       "      <td>152.20</td>\n",
       "      <td>1575.0</td>\n",
       "      <td>0.1374</td>\n",
       "      <td>0.2050</td>\n",
       "      <td>0.4000</td>\n",
       "      <td>0.1625</td>\n",
       "      <td>0.2364</td>\n",
       "      <td>0.07678</td>\n",
       "      <td>NaN</td>\n",
       "    </tr>\n",
       "  </tbody>\n",
       "</table>\n",
       "<p>5 rows × 33 columns</p>\n",
       "</div>"
      ],
      "text/plain": [
       "         id diagnosis  radius_mean  texture_mean  perimeter_mean  area_mean  \\\n",
       "0    842302         M        17.99         10.38          122.80     1001.0   \n",
       "1    842517         M        20.57         17.77          132.90     1326.0   \n",
       "2  84300903         M        19.69         21.25          130.00     1203.0   \n",
       "3  84348301         M        11.42         20.38           77.58      386.1   \n",
       "4  84358402         M        20.29         14.34          135.10     1297.0   \n",
       "\n",
       "   smoothness_mean  compactness_mean  concavity_mean  concave points_mean  \\\n",
       "0          0.11840           0.27760          0.3001              0.14710   \n",
       "1          0.08474           0.07864          0.0869              0.07017   \n",
       "2          0.10960           0.15990          0.1974              0.12790   \n",
       "3          0.14250           0.28390          0.2414              0.10520   \n",
       "4          0.10030           0.13280          0.1980              0.10430   \n",
       "\n",
       "   ...  texture_worst  perimeter_worst  area_worst  smoothness_worst  \\\n",
       "0  ...          17.33           184.60      2019.0            0.1622   \n",
       "1  ...          23.41           158.80      1956.0            0.1238   \n",
       "2  ...          25.53           152.50      1709.0            0.1444   \n",
       "3  ...          26.50            98.87       567.7            0.2098   \n",
       "4  ...          16.67           152.20      1575.0            0.1374   \n",
       "\n",
       "   compactness_worst  concavity_worst  concave points_worst  symmetry_worst  \\\n",
       "0             0.6656           0.7119                0.2654          0.4601   \n",
       "1             0.1866           0.2416                0.1860          0.2750   \n",
       "2             0.4245           0.4504                0.2430          0.3613   \n",
       "3             0.8663           0.6869                0.2575          0.6638   \n",
       "4             0.2050           0.4000                0.1625          0.2364   \n",
       "\n",
       "   fractal_dimension_worst  Unnamed: 32  \n",
       "0                  0.11890          NaN  \n",
       "1                  0.08902          NaN  \n",
       "2                  0.08758          NaN  \n",
       "3                  0.17300          NaN  \n",
       "4                  0.07678          NaN  \n",
       "\n",
       "[5 rows x 33 columns]"
      ]
     },
     "execution_count": 90,
     "metadata": {},
     "output_type": "execute_result"
    }
   ],
   "source": [
    "db.head()"
   ]
  },
  {
   "cell_type": "markdown",
   "id": "f898683d",
   "metadata": {},
   "source": [
    "# Prediction of Whether Cancer is Benign or Malignant "
   ]
  },
  {
   "cell_type": "code",
   "execution_count": 91,
   "id": "9350288c",
   "metadata": {},
   "outputs": [
    {
     "data": {
      "text/plain": [
       "diagnosis\n",
       "B    357\n",
       "M    212\n",
       "Name: count, dtype: int64"
      ]
     },
     "execution_count": 91,
     "metadata": {},
     "output_type": "execute_result"
    }
   ],
   "source": [
    "db_trunc = db['diagnosis']\n",
    "\n",
    "res = db_trunc.value_counts()\n",
    "res\n"
   ]
  },
  {
   "cell_type": "code",
   "execution_count": 92,
   "id": "d043cf2d",
   "metadata": {},
   "outputs": [],
   "source": [
    "db_trunc_trans = db_trunc.transform(lambda x : 1 if x=='B' else 0)"
   ]
  },
  {
   "cell_type": "code",
   "execution_count": 93,
   "id": "2b25df7d",
   "metadata": {},
   "outputs": [
    {
     "data": {
      "text/plain": [
       "diagnosis\n",
       "1    357\n",
       "0    212\n",
       "Name: count, dtype: int64"
      ]
     },
     "execution_count": 93,
     "metadata": {},
     "output_type": "execute_result"
    }
   ],
   "source": [
    "db_trunc_trans.value_counts()"
   ]
  },
  {
   "cell_type": "code",
   "execution_count": 94,
   "id": "d79892ce",
   "metadata": {},
   "outputs": [
    {
     "name": "stdout",
     "output_type": "stream",
     "text": [
      "# Benign:  357\n",
      "# Maligant:  212\n"
     ]
    }
   ],
   "source": [
    "B,M= res.values\n",
    "print(\"# Benign: \",B)\n",
    "print(\"# Maligant: \",M)\n"
   ]
  },
  {
   "cell_type": "markdown",
   "id": "761c7f93",
   "metadata": {},
   "source": [
    "Let $p$ denote the probability of cancer being bengin"
   ]
  },
  {
   "cell_type": "code",
   "execution_count": 95,
   "id": "69d3c46e",
   "metadata": {},
   "outputs": [
    {
     "name": "stdout",
     "output_type": "stream",
     "text": [
      "Probability of cancer  being benign:  0.6274165202108963\n"
     ]
    }
   ],
   "source": [
    "p  = B/(B+M)\n",
    "print(\"Probability of cancer  being benign: \",p)"
   ]
  },
  {
   "cell_type": "markdown",
   "id": "21e8d288",
   "metadata": {},
   "source": [
    " We have a sample of above we want to know from that whether p<=1/2 or p>1/2"
   ]
  },
  {
   "cell_type": "code",
   "execution_count": 96,
   "id": "07d716cd",
   "metadata": {},
   "outputs": [],
   "source": [
    "n=10"
   ]
  },
  {
   "cell_type": "code",
   "execution_count": 97,
   "id": "f8fb55c3",
   "metadata": {},
   "outputs": [
    {
     "data": {
      "text/plain": [
       "397    B\n",
       "335    M\n",
       "284    B\n",
       "510    B\n",
       "437    B\n",
       "358    B\n",
       "65     M\n",
       "368    M\n",
       "67     B\n",
       "407    B\n",
       "Name: diagnosis, dtype: object"
      ]
     },
     "execution_count": 97,
     "metadata": {},
     "output_type": "execute_result"
    }
   ],
   "source": [
    "sample = db_trunc.sample(n=n)\n",
    "sample"
   ]
  },
  {
   "cell_type": "code",
   "execution_count": 98,
   "id": "458efbee",
   "metadata": {},
   "outputs": [
    {
     "data": {
      "text/plain": [
       "diagnosis\n",
       "B    7\n",
       "M    3\n",
       "Name: count, dtype: int64"
      ]
     },
     "execution_count": 98,
     "metadata": {},
     "output_type": "execute_result"
    }
   ],
   "source": [
    "sample.value_counts()"
   ]
  },
  {
   "cell_type": "code",
   "execution_count": 99,
   "id": "bb982c85",
   "metadata": {},
   "outputs": [],
   "source": [
    "B_s,M_s  = sample.value_counts().values\n"
   ]
  },
  {
   "cell_type": "code",
   "execution_count": 100,
   "id": "f1329864",
   "metadata": {},
   "outputs": [],
   "source": [
    "## Let say B = 1   M_s=0\n",
    "sample = sample.transform(lambda x : 1 if x=='B' else 0)"
   ]
  },
  {
   "cell_type": "code",
   "execution_count": 101,
   "id": "02595297",
   "metadata": {},
   "outputs": [
    {
     "data": {
      "text/plain": [
       "0.7"
      ]
     },
     "execution_count": 101,
     "metadata": {},
     "output_type": "execute_result"
    }
   ],
   "source": [
    "X_mean = sample.sum(axis = 0)/(len(sample))\n",
    "X_mean"
   ]
  },
  {
   "cell_type": "code",
   "execution_count": null,
   "id": "473eee05",
   "metadata": {},
   "outputs": [
    {
     "name": "stdout",
     "output_type": "stream",
     "text": [
      "1.2649110640673515\n"
     ]
    }
   ],
   "source": [
    "value = (np.sqrt(n) * (X_mean -1/2))/(1/2)\n",
    "print(value)"
   ]
  },
  {
   "cell_type": "markdown",
   "id": "fd124d56",
   "metadata": {},
   "source": [
    "$ Rejection Region = sqrt(n)(X_mean -1/2)/(1/2) > z_alpha $  Here alpha == 0.05\n",
    "- $z_{0.05} = 1.96 $"
   ]
  },
  {
   "cell_type": "markdown",
   "id": "ddd3b63d",
   "metadata": {},
   "source": [
    "# Rejection Region {value > 1.96 }\n",
    "\n",
    "Thus Reject H_{0} that p<=1/2 which is in fact seen also"
   ]
  },
  {
   "cell_type": "code",
   "execution_count": 111,
   "id": "552278b3",
   "metadata": {},
   "outputs": [
    {
     "name": "stdout",
     "output_type": "stream",
     "text": [
      "n 1 value 1.00   Failed to Reject H0\n",
      "n 2 value 1.41   Failed to Reject H0\n",
      "n 3 value 0.58   Failed to Reject H0\n",
      "n 4 value -1.00   Failed to Reject H0\n",
      "n 5 value 2.24   Reject H0\n",
      "n 6 value 0.82   Failed to Reject H0\n",
      "n 7 value 0.38   Failed to Reject H0\n",
      "n 8 value 0.00   Failed to Reject H0\n",
      "n 9 value -1.67   Failed to Reject H0\n",
      "n 10 value -0.63   Failed to Reject H0\n",
      "n 11 value 1.51   Failed to Reject H0\n",
      "n 12 value 2.31   Reject H0\n",
      "n 13 value 0.28   Failed to Reject H0\n",
      "n 14 value 1.07   Failed to Reject H0\n",
      "n 15 value 1.29   Failed to Reject H0\n",
      "n 16 value 0.50   Failed to Reject H0\n",
      "n 17 value 1.70   Failed to Reject H0\n",
      "n 18 value 1.89   Failed to Reject H0\n",
      "n 19 value 1.61   Failed to Reject H0\n",
      "n 20 value 2.24   Reject H0\n",
      "n 21 value -0.65   Failed to Reject H0\n",
      "n 22 value 0.85   Failed to Reject H0\n",
      "n 23 value 1.04   Failed to Reject H0\n",
      "n 24 value 1.22   Failed to Reject H0\n",
      "n 25 value 1.80   Failed to Reject H0\n",
      "n 26 value 0.78   Failed to Reject H0\n",
      "n 27 value 2.12   Reject H0\n",
      "n 28 value 1.13   Failed to Reject H0\n",
      "n 29 value 2.79   Reject H0\n",
      "n 30 value 1.46   Failed to Reject H0\n",
      "n 31 value 1.98   Reject H0\n",
      "n 32 value 1.77   Failed to Reject H0\n",
      "n 33 value 1.22   Failed to Reject H0\n",
      "n 34 value 1.71   Failed to Reject H0\n",
      "n 35 value 0.85   Failed to Reject H0\n",
      "n 36 value 3.00   Reject H0\n",
      "n 37 value 3.12   Reject H0\n",
      "n 38 value 1.62   Failed to Reject H0\n",
      "n 39 value 2.40   Reject H0\n",
      "n 40 value -0.32   Failed to Reject H0\n",
      "n 41 value 0.47   Failed to Reject H0\n",
      "n 42 value 2.78   Reject H0\n",
      "n 43 value 1.07   Failed to Reject H0\n",
      "n 44 value 1.81   Failed to Reject H0\n",
      "n 45 value 4.02   Reject H0\n",
      "n 46 value 1.77   Failed to Reject H0\n",
      "n 47 value 2.77   Reject H0\n",
      "n 48 value 2.60   Reject H0\n",
      "n 49 value 2.43   Reject H0\n",
      "n 50 value 2.26   Reject H0\n",
      "n 51 value 2.10   Reject H0\n",
      "n 52 value 0.83   Failed to Reject H0\n",
      "n 53 value 0.69   Failed to Reject H0\n",
      "n 54 value 2.45   Reject H0\n",
      "n 55 value 2.83   Reject H0\n",
      "n 56 value 0.53   Failed to Reject H0\n",
      "n 57 value 0.40   Failed to Reject H0\n",
      "n 58 value 1.31   Failed to Reject H0\n",
      "n 59 value 3.52   Reject H0\n",
      "n 60 value 2.07   Reject H0\n",
      "n 61 value 1.92   Failed to Reject H0\n",
      "n 62 value 2.29   Reject H0\n",
      "n 63 value 0.38   Failed to Reject H0\n",
      "n 64 value 3.50   Reject H0\n",
      "n 65 value 2.11   Reject H0\n",
      "n 66 value 2.22   Reject H0\n",
      "n 67 value 2.81   Reject H0\n",
      "n 68 value 0.49   Failed to Reject H0\n",
      "n 69 value 0.84   Failed to Reject H0\n",
      "n 70 value 3.59   Reject H0\n",
      "n 71 value 0.83   Failed to Reject H0\n",
      "n 72 value 3.54   Reject H0\n",
      "n 73 value 1.52   Failed to Reject H0\n",
      "n 74 value 1.86   Failed to Reject H0\n",
      "n 75 value 1.50   Failed to Reject H0\n",
      "n 76 value 0.23   Failed to Reject H0\n",
      "n 77 value 0.57   Failed to Reject H0\n",
      "n 78 value 0.91   Failed to Reject H0\n",
      "n 79 value 2.14   Reject H0\n",
      "n 80 value 2.24   Reject H0\n",
      "n 81 value 2.11   Reject H0\n",
      "n 82 value 1.99   Reject H0\n",
      "n 83 value 1.21   Failed to Reject H0\n",
      "n 84 value 3.49   Reject H0\n",
      "n 85 value 2.28   Reject H0\n",
      "n 86 value 2.37   Reject H0\n",
      "n 87 value 3.97   Reject H0\n",
      "n 88 value 1.71   Failed to Reject H0\n",
      "n 89 value 2.23   Reject H0\n",
      "n 90 value 1.48   Failed to Reject H0\n",
      "n 91 value 3.67   Reject H0\n",
      "n 92 value 1.25   Failed to Reject H0\n",
      "n 93 value 3.01   Reject H0\n",
      "n 94 value 2.06   Reject H0\n",
      "n 95 value 3.59   Reject H0\n",
      "n 96 value 2.04   Reject H0\n",
      "n 97 value 2.13   Reject H0\n",
      "n 98 value 4.44   Reject H0\n",
      "n 99 value 1.31   Failed to Reject H0\n",
      "n 100 value 1.40   Failed to Reject H0\n",
      "n 101 value 1.29   Failed to Reject H0\n",
      "n 102 value 2.38   Reject H0\n",
      "n 103 value 1.68   Failed to Reject H0\n",
      "n 104 value 1.77   Failed to Reject H0\n",
      "n 105 value 2.63   Reject H0\n",
      "n 106 value 1.36   Failed to Reject H0\n",
      "n 107 value 1.64   Failed to Reject H0\n",
      "n 108 value 3.85   Reject H0\n",
      "n 109 value 2.97   Reject H0\n",
      "n 110 value 3.62   Reject H0\n",
      "n 111 value 3.32   Reject H0\n",
      "n 112 value 2.65   Reject H0\n",
      "n 113 value 2.54   Reject H0\n",
      "n 114 value 2.81   Reject H0\n",
      "n 115 value 3.08   Reject H0\n",
      "n 116 value 2.41   Reject H0\n",
      "n 117 value 2.13   Reject H0\n",
      "n 118 value 2.03   Reject H0\n",
      "n 119 value 1.93   Failed to Reject H0\n",
      "n 120 value 2.74   Reject H0\n",
      "n 121 value 3.91   Reject H0\n",
      "n 122 value 3.98   Reject H0\n",
      "n 123 value 2.80   Reject H0\n",
      "n 124 value 2.87   Reject H0\n",
      "n 125 value 3.67   Reject H0\n",
      "n 126 value 2.85   Reject H0\n",
      "n 127 value 2.57   Reject H0\n",
      "n 128 value 2.65   Reject H0\n",
      "n 129 value 3.26   Reject H0\n",
      "n 130 value 1.75   Failed to Reject H0\n",
      "n 131 value 2.01   Reject H0\n",
      "n 132 value 3.13   Reject H0\n",
      "n 133 value 3.03   Reject H0\n",
      "n 134 value 4.66   Reject H0\n",
      "n 135 value 2.84   Reject H0\n",
      "n 136 value 2.74   Reject H0\n",
      "n 137 value 4.36   Reject H0\n",
      "n 138 value 2.04   Reject H0\n",
      "n 139 value 2.63   Reject H0\n",
      "n 140 value 3.04   Reject H0\n",
      "n 141 value 3.28   Reject H0\n",
      "n 142 value 4.36   Reject H0\n",
      "n 143 value 3.43   Reject H0\n",
      "n 144 value 3.17   Reject H0\n",
      "n 145 value 3.90   Reject H0\n",
      "n 146 value 3.31   Reject H0\n",
      "n 147 value 2.72   Reject H0\n",
      "n 148 value 2.47   Reject H0\n",
      "n 149 value 2.21   Reject H0\n",
      "n 150 value 2.78   Reject H0\n",
      "n 151 value 2.52   Reject H0\n",
      "n 152 value 3.89   Reject H0\n",
      "n 153 value 4.28   Reject H0\n",
      "n 154 value 2.26   Reject H0\n",
      "n 155 value 2.65   Reject H0\n",
      "n 156 value 3.68   Reject H0\n",
      "n 157 value 3.59   Reject H0\n",
      "n 158 value 3.82   Reject H0\n",
      "n 159 value 4.52   Reject H0\n",
      "n 160 value 3.16   Reject H0\n",
      "n 161 value 2.44   Reject H0\n",
      "n 162 value 3.30   Reject H0\n",
      "n 163 value 4.31   Reject H0\n",
      "n 164 value 2.97   Reject H0\n",
      "n 165 value 3.66   Reject H0\n",
      "n 166 value 4.19   Reject H0\n",
      "n 167 value 3.02   Reject H0\n",
      "n 168 value 3.09   Reject H0\n",
      "n 169 value 3.46   Reject H0\n",
      "n 170 value 3.07   Reject H0\n",
      "n 171 value 4.36   Reject H0\n",
      "n 172 value 3.81   Reject H0\n",
      "n 173 value 2.81   Reject H0\n",
      "n 174 value 4.09   Reject H0\n",
      "n 175 value 2.95   Reject H0\n",
      "n 176 value 1.96   Failed to Reject H0\n",
      "n 177 value 2.78   Reject H0\n",
      "n 178 value 3.00   Reject H0\n",
      "n 179 value 3.21   Reject H0\n",
      "n 180 value 4.02   Reject H0\n",
      "n 181 value 3.20   Reject H0\n",
      "n 182 value 3.71   Reject H0\n",
      "n 183 value 3.33   Reject H0\n",
      "n 184 value 3.10   Reject H0\n",
      "n 185 value 2.57   Reject H0\n",
      "n 186 value 3.37   Reject H0\n",
      "n 187 value 3.14   Reject H0\n",
      "n 188 value 1.90   Failed to Reject H0\n",
      "n 189 value 3.56   Reject H0\n",
      "n 190 value 2.61   Reject H0\n",
      "n 191 value 2.68   Reject H0\n",
      "n 192 value 4.33   Reject H0\n",
      "n 193 value 2.81   Reject H0\n",
      "n 194 value 4.59   Reject H0\n",
      "n 195 value 4.37   Reject H0\n",
      "n 196 value 4.14   Reject H0\n",
      "n 197 value 4.06   Reject H0\n",
      "n 198 value 4.12   Reject H0\n",
      "n 199 value 2.62   Reject H0\n"
     ]
    }
   ],
   "source": [
    "## Find the critical value of n for which I can't reject H_O\n",
    "\n",
    "for n in range(1,200,1):\n",
    "    sample = db_trunc.sample(n=n)\n",
    "    sample = sample.transform(lambda x : 1 if x=='B' else 0)\n",
    "    X_mean = sample.sum(axis = 0)/(len(sample))\n",
    "\n",
    "    value = (np.sqrt(n) * (X_mean -1/2))/(1/2)\n",
    "    testing_result = \"Reject H0\" if value >1.96 else \"Failed to Reject H0\"\n",
    "    print(f\"n {n} value {value :.2f}   {testing_result}\")\n"
   ]
  }
 ],
 "metadata": {
  "kernelspec": {
   "display_name": "base",
   "language": "python",
   "name": "python3"
  },
  "language_info": {
   "codemirror_mode": {
    "name": "ipython",
    "version": 3
   },
   "file_extension": ".py",
   "mimetype": "text/x-python",
   "name": "python",
   "nbconvert_exporter": "python",
   "pygments_lexer": "ipython3",
   "version": "3.8.3"
  }
 },
 "nbformat": 4,
 "nbformat_minor": 5
}
