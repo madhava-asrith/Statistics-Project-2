{
 "cells": [
  {
   "cell_type": "code",
   "execution_count": 88,
   "id": "f68e8ffa",
   "metadata": {},
   "outputs": [],
   "source": [
    "import numpy as np\n",
    "import pandas as pd"
   ]
  },
  {
   "cell_type": "code",
   "execution_count": 89,
   "id": "5aaae272",
   "metadata": {},
   "outputs": [],
   "source": [
    "db = pd.read_csv(\"data.csv\")"
   ]
  },
  {
   "cell_type": "code",
   "execution_count": 90,
   "id": "be7815ff",
   "metadata": {},
   "outputs": [
    {
     "data": {
      "text/html": [
       "<div>\n",
       "<style scoped>\n",
       "    .dataframe tbody tr th:only-of-type {\n",
       "        vertical-align: middle;\n",
       "    }\n",
       "\n",
       "    .dataframe tbody tr th {\n",
       "        vertical-align: top;\n",
       "    }\n",
       "\n",
       "    .dataframe thead th {\n",
       "        text-align: right;\n",
       "    }\n",
       "</style>\n",
       "<table border=\"1\" class=\"dataframe\">\n",
       "  <thead>\n",
       "    <tr style=\"text-align: right;\">\n",
       "      <th></th>\n",
       "      <th>id</th>\n",
       "      <th>diagnosis</th>\n",
       "      <th>radius_mean</th>\n",
       "      <th>texture_mean</th>\n",
       "      <th>perimeter_mean</th>\n",
       "      <th>area_mean</th>\n",
       "      <th>smoothness_mean</th>\n",
       "      <th>compactness_mean</th>\n",
       "      <th>concavity_mean</th>\n",
       "      <th>concave points_mean</th>\n",
       "      <th>...</th>\n",
       "      <th>texture_worst</th>\n",
       "      <th>perimeter_worst</th>\n",
       "      <th>area_worst</th>\n",
       "      <th>smoothness_worst</th>\n",
       "      <th>compactness_worst</th>\n",
       "      <th>concavity_worst</th>\n",
       "      <th>concave points_worst</th>\n",
       "      <th>symmetry_worst</th>\n",
       "      <th>fractal_dimension_worst</th>\n",
       "      <th>Unnamed: 32</th>\n",
       "    </tr>\n",
       "  </thead>\n",
       "  <tbody>\n",
       "    <tr>\n",
       "      <th>0</th>\n",
       "      <td>842302</td>\n",
       "      <td>M</td>\n",
       "      <td>17.99</td>\n",
       "      <td>10.38</td>\n",
       "      <td>122.80</td>\n",
       "      <td>1001.0</td>\n",
       "      <td>0.11840</td>\n",
       "      <td>0.27760</td>\n",
       "      <td>0.3001</td>\n",
       "      <td>0.14710</td>\n",
       "      <td>...</td>\n",
       "      <td>17.33</td>\n",
       "      <td>184.60</td>\n",
       "      <td>2019.0</td>\n",
       "      <td>0.1622</td>\n",
       "      <td>0.6656</td>\n",
       "      <td>0.7119</td>\n",
       "      <td>0.2654</td>\n",
       "      <td>0.4601</td>\n",
       "      <td>0.11890</td>\n",
       "      <td>NaN</td>\n",
       "    </tr>\n",
       "    <tr>\n",
       "      <th>1</th>\n",
       "      <td>842517</td>\n",
       "      <td>M</td>\n",
       "      <td>20.57</td>\n",
       "      <td>17.77</td>\n",
       "      <td>132.90</td>\n",
       "      <td>1326.0</td>\n",
       "      <td>0.08474</td>\n",
       "      <td>0.07864</td>\n",
       "      <td>0.0869</td>\n",
       "      <td>0.07017</td>\n",
       "      <td>...</td>\n",
       "      <td>23.41</td>\n",
       "      <td>158.80</td>\n",
       "      <td>1956.0</td>\n",
       "      <td>0.1238</td>\n",
       "      <td>0.1866</td>\n",
       "      <td>0.2416</td>\n",
       "      <td>0.1860</td>\n",
       "      <td>0.2750</td>\n",
       "      <td>0.08902</td>\n",
       "      <td>NaN</td>\n",
       "    </tr>\n",
       "    <tr>\n",
       "      <th>2</th>\n",
       "      <td>84300903</td>\n",
       "      <td>M</td>\n",
       "      <td>19.69</td>\n",
       "      <td>21.25</td>\n",
       "      <td>130.00</td>\n",
       "      <td>1203.0</td>\n",
       "      <td>0.10960</td>\n",
       "      <td>0.15990</td>\n",
       "      <td>0.1974</td>\n",
       "      <td>0.12790</td>\n",
       "      <td>...</td>\n",
       "      <td>25.53</td>\n",
       "      <td>152.50</td>\n",
       "      <td>1709.0</td>\n",
       "      <td>0.1444</td>\n",
       "      <td>0.4245</td>\n",
       "      <td>0.4504</td>\n",
       "      <td>0.2430</td>\n",
       "      <td>0.3613</td>\n",
       "      <td>0.08758</td>\n",
       "      <td>NaN</td>\n",
       "    </tr>\n",
       "    <tr>\n",
       "      <th>3</th>\n",
       "      <td>84348301</td>\n",
       "      <td>M</td>\n",
       "      <td>11.42</td>\n",
       "      <td>20.38</td>\n",
       "      <td>77.58</td>\n",
       "      <td>386.1</td>\n",
       "      <td>0.14250</td>\n",
       "      <td>0.28390</td>\n",
       "      <td>0.2414</td>\n",
       "      <td>0.10520</td>\n",
       "      <td>...</td>\n",
       "      <td>26.50</td>\n",
       "      <td>98.87</td>\n",
       "      <td>567.7</td>\n",
       "      <td>0.2098</td>\n",
       "      <td>0.8663</td>\n",
       "      <td>0.6869</td>\n",
       "      <td>0.2575</td>\n",
       "      <td>0.6638</td>\n",
       "      <td>0.17300</td>\n",
       "      <td>NaN</td>\n",
       "    </tr>\n",
       "    <tr>\n",
       "      <th>4</th>\n",
       "      <td>84358402</td>\n",
       "      <td>M</td>\n",
       "      <td>20.29</td>\n",
       "      <td>14.34</td>\n",
       "      <td>135.10</td>\n",
       "      <td>1297.0</td>\n",
       "      <td>0.10030</td>\n",
       "      <td>0.13280</td>\n",
       "      <td>0.1980</td>\n",
       "      <td>0.10430</td>\n",
       "      <td>...</td>\n",
       "      <td>16.67</td>\n",
       "      <td>152.20</td>\n",
       "      <td>1575.0</td>\n",
       "      <td>0.1374</td>\n",
       "      <td>0.2050</td>\n",
       "      <td>0.4000</td>\n",
       "      <td>0.1625</td>\n",
       "      <td>0.2364</td>\n",
       "      <td>0.07678</td>\n",
       "      <td>NaN</td>\n",
       "    </tr>\n",
       "  </tbody>\n",
       "</table>\n",
       "<p>5 rows × 33 columns</p>\n",
       "</div>"
      ],
      "text/plain": [
       "         id diagnosis  radius_mean  texture_mean  perimeter_mean  area_mean  \\\n",
       "0    842302         M        17.99         10.38          122.80     1001.0   \n",
       "1    842517         M        20.57         17.77          132.90     1326.0   \n",
       "2  84300903         M        19.69         21.25          130.00     1203.0   \n",
       "3  84348301         M        11.42         20.38           77.58      386.1   \n",
       "4  84358402         M        20.29         14.34          135.10     1297.0   \n",
       "\n",
       "   smoothness_mean  compactness_mean  concavity_mean  concave points_mean  \\\n",
       "0          0.11840           0.27760          0.3001              0.14710   \n",
       "1          0.08474           0.07864          0.0869              0.07017   \n",
       "2          0.10960           0.15990          0.1974              0.12790   \n",
       "3          0.14250           0.28390          0.2414              0.10520   \n",
       "4          0.10030           0.13280          0.1980              0.10430   \n",
       "\n",
       "   ...  texture_worst  perimeter_worst  area_worst  smoothness_worst  \\\n",
       "0  ...          17.33           184.60      2019.0            0.1622   \n",
       "1  ...          23.41           158.80      1956.0            0.1238   \n",
       "2  ...          25.53           152.50      1709.0            0.1444   \n",
       "3  ...          26.50            98.87       567.7            0.2098   \n",
       "4  ...          16.67           152.20      1575.0            0.1374   \n",
       "\n",
       "   compactness_worst  concavity_worst  concave points_worst  symmetry_worst  \\\n",
       "0             0.6656           0.7119                0.2654          0.4601   \n",
       "1             0.1866           0.2416                0.1860          0.2750   \n",
       "2             0.4245           0.4504                0.2430          0.3613   \n",
       "3             0.8663           0.6869                0.2575          0.6638   \n",
       "4             0.2050           0.4000                0.1625          0.2364   \n",
       "\n",
       "   fractal_dimension_worst  Unnamed: 32  \n",
       "0                  0.11890          NaN  \n",
       "1                  0.08902          NaN  \n",
       "2                  0.08758          NaN  \n",
       "3                  0.17300          NaN  \n",
       "4                  0.07678          NaN  \n",
       "\n",
       "[5 rows x 33 columns]"
      ]
     },
     "execution_count": 90,
     "metadata": {},
     "output_type": "execute_result"
    }
   ],
   "source": [
    "db.head()"
   ]
  },
  {
   "cell_type": "markdown",
   "id": "f898683d",
   "metadata": {},
   "source": [
    "# Prediction of Whether Cancer is Benign or Malignant "
   ]
  },
  {
   "cell_type": "code",
   "execution_count": 91,
   "id": "9350288c",
   "metadata": {},
   "outputs": [
    {
     "data": {
      "text/plain": [
       "diagnosis\n",
       "B    357\n",
       "M    212\n",
       "Name: count, dtype: int64"
      ]
     },
     "execution_count": 91,
     "metadata": {},
     "output_type": "execute_result"
    }
   ],
   "source": [
    "db_trunc = db['diagnosis']\n",
    "\n",
    "res = db_trunc.value_counts()\n",
    "res\n"
   ]
  },
  {
   "cell_type": "code",
   "execution_count": 92,
   "id": "d043cf2d",
   "metadata": {},
   "outputs": [],
   "source": [
    "db_trunc_trans = db_trunc.transform(lambda x : 1 if x=='B' else 0)"
   ]
  },
  {
   "cell_type": "code",
   "execution_count": 93,
   "id": "2b25df7d",
   "metadata": {},
   "outputs": [
    {
     "data": {
      "text/plain": [
       "diagnosis\n",
       "1    357\n",
       "0    212\n",
       "Name: count, dtype: int64"
      ]
     },
     "execution_count": 93,
     "metadata": {},
     "output_type": "execute_result"
    }
   ],
   "source": [
    "db_trunc_trans.value_counts()"
   ]
  },
  {
   "cell_type": "code",
   "execution_count": 94,
   "id": "d79892ce",
   "metadata": {},
   "outputs": [
    {
     "name": "stdout",
     "output_type": "stream",
     "text": [
      "# Benign:  357\n",
      "# Maligant:  212\n"
     ]
    }
   ],
   "source": [
    "B,M= res.values\n",
    "print(\"# Benign: \",B)\n",
    "print(\"# Maligant: \",M)\n"
   ]
  },
  {
   "cell_type": "markdown",
   "id": "761c7f93",
   "metadata": {},
   "source": [
    "Let $p$ denote the probability of cancer being bengin"
   ]
  },
  {
   "cell_type": "code",
   "execution_count": 95,
   "id": "69d3c46e",
   "metadata": {},
   "outputs": [
    {
     "name": "stdout",
     "output_type": "stream",
     "text": [
      "Probability of cancer  being benign:  0.6274165202108963\n"
     ]
    }
   ],
   "source": [
    "p  = B/(B+M)\n",
    "print(\"Probability of cancer  being benign: \",p)"
   ]
  },
  {
   "cell_type": "markdown",
   "id": "21e8d288",
   "metadata": {},
   "source": [
    " We have a sample of above we want to know from that whether p<=1/2 or p>1/2"
   ]
  },
  {
   "cell_type": "code",
   "execution_count": 96,
   "id": "07d716cd",
   "metadata": {},
   "outputs": [],
   "source": [
    "n=10"
   ]
  },
  {
   "cell_type": "code",
   "execution_count": 97,
   "id": "f8fb55c3",
   "metadata": {},
   "outputs": [
    {
     "data": {
      "text/plain": [
       "397    B\n",
       "335    M\n",
       "284    B\n",
       "510    B\n",
       "437    B\n",
       "358    B\n",
       "65     M\n",
       "368    M\n",
       "67     B\n",
       "407    B\n",
       "Name: diagnosis, dtype: object"
      ]
     },
     "execution_count": 97,
     "metadata": {},
     "output_type": "execute_result"
    }
   ],
   "source": [
    "sample = db_trunc.sample(n=n)\n",
    "sample"
   ]
  },
  {
   "cell_type": "code",
   "execution_count": 98,
   "id": "458efbee",
   "metadata": {},
   "outputs": [
    {
     "data": {
      "text/plain": [
       "diagnosis\n",
       "B    7\n",
       "M    3\n",
       "Name: count, dtype: int64"
      ]
     },
     "execution_count": 98,
     "metadata": {},
     "output_type": "execute_result"
    }
   ],
   "source": [
    "sample.value_counts()"
   ]
  },
  {
   "cell_type": "code",
   "execution_count": 99,
   "id": "bb982c85",
   "metadata": {},
   "outputs": [],
   "source": [
    "B_s,M_s  = sample.value_counts().values\n"
   ]
  },
  {
   "cell_type": "code",
   "execution_count": 100,
   "id": "f1329864",
   "metadata": {},
   "outputs": [],
   "source": [
    "## Let say B = 1   M_s=0\n",
    "sample = sample.transform(lambda x : 1 if x=='B' else 0)"
   ]
  },
  {
   "cell_type": "code",
   "execution_count": 101,
   "id": "02595297",
   "metadata": {},
   "outputs": [
    {
     "data": {
      "text/plain": [
       "0.7"
      ]
     },
     "execution_count": 101,
     "metadata": {},
     "output_type": "execute_result"
    }
   ],
   "source": [
    "X_mean = sample.sum(axis = 0)/(len(sample))\n",
    "X_mean"
   ]
  },
  {
   "cell_type": "code",
   "execution_count": 102,
   "id": "473eee05",
   "metadata": {},
   "outputs": [
    {
     "name": "stdout",
     "output_type": "stream",
     "text": [
      "1.2649110640673515\n"
     ]
    }
   ],
   "source": [
    "p_value = (np.sqrt(n) * (X_mean -1/2))/(1/2)\n",
    "print(p_value)"
   ]
  },
  {
   "cell_type": "markdown",
   "id": "fd124d56",
   "metadata": {},
   "source": [
    "$ Rejection Region = sqrt(n)(X_mean -1/2)/(1/2) > z_alpha $  Here alpha == 0.05\n",
    "- $z_{0.05} = 1.96 $"
   ]
  },
  {
   "cell_type": "markdown",
   "id": "ddd3b63d",
   "metadata": {},
   "source": [
    "# p_value > 1.96 \n",
    "\n",
    "Thus Reject H_{0} that p<=1/2 which is in fact seen also"
   ]
  },
  {
   "cell_type": "code",
   "execution_count": 107,
   "id": "552278b3",
   "metadata": {},
   "outputs": [
    {
     "name": "stdout",
     "output_type": "stream",
     "text": [
      "n 1 p_value 1.0\n",
      "n 2 p_value 1.4142135623730951\n",
      "n 3 p_value 1.7320508075688772\n",
      "n 4 p_value -1.0\n",
      "n 5 p_value 0.44721359549995787\n",
      "n 6 p_value 0.0\n",
      "n 7 p_value 0.3779644730092271\n",
      "n 8 p_value 1.4142135623730951\n",
      "n 9 p_value -1.0\n",
      "n 10 p_value 1.897366596101028\n",
      "n 11 p_value 2.1105794120443457\n",
      "n 12 p_value 1.1547005383792512\n",
      "n 13 p_value 2.496150883013531\n",
      "n 14 p_value 0.0\n",
      "n 15 p_value -0.2581988897471611\n",
      "n 16 p_value 1.5\n",
      "n 17 p_value 2.1828206253269964\n",
      "n 18 p_value 1.4142135623730947\n",
      "n 19 p_value -0.22941573387056202\n",
      "n 20 p_value 1.341640786499874\n",
      "n 21 p_value -0.2182178902359926\n",
      "n 22 p_value 2.5584085962673253\n",
      "n 23 p_value 0.6255432421712238\n",
      "n 24 p_value 0.40824829046386263\n",
      "n 25 p_value 0.6000000000000005\n",
      "n 26 p_value 0.7844645405527355\n",
      "n 27 p_value 2.886751345948129\n",
      "n 28 p_value 1.5118578920369095\n",
      "n 29 p_value 2.0426487199475707\n",
      "n 30 p_value 0.7302967433402213\n",
      "n 31 p_value 1.6164477182409738\n",
      "n 32 p_value 2.121320343559643\n",
      "n 33 p_value 1.218543591689885\n",
      "n 34 p_value 0.34299717028501775\n",
      "n 35 p_value 0.16903085094570272\n",
      "n 36 p_value 3.0\n",
      "n 37 p_value 0.16439898730535696\n",
      "n 38 p_value 1.6222142113076248\n",
      "n 39 p_value 2.401922307076307\n",
      "n 40 p_value 2.846049894151541\n",
      "n 41 p_value 1.093216333220242\n",
      "n 42 p_value 0.9258200997725511\n",
      "n 43 p_value 1.067489992328233\n",
      "n 44 p_value 2.713602101199873\n",
      "n 45 p_value 1.3416407864998736\n",
      "n 46 p_value 2.653955210788148\n",
      "n 47 p_value 2.7714348384599967\n",
      "n 48 p_value 2.3094010767585025\n",
      "n 49 p_value 0.9999999999999996\n",
      "n 50 p_value 1.1313708498984756\n",
      "n 51 p_value 3.2206441932644223\n",
      "n 52 p_value 2.2188007849009166\n",
      "n 53 p_value 0.13736056394868898\n",
      "n 54 p_value 1.360827634879543\n",
      "n 55 p_value 1.4832396974191322\n",
      "n 56 p_value 2.9398736610366676\n",
      "n 57 p_value 1.7218920641845572\n",
      "n 58 p_value 1.5756771943166705\n",
      "n 59 p_value 1.6924558427507108\n",
      "n 60 p_value 2.065591117977289\n",
      "n 61 p_value 1.1523319193960633\n",
      "n 62 p_value 3.048003048004573\n",
      "n 63 p_value 1.3858697343671669\n",
      "n 64 p_value 3.25\n",
      "n 65 p_value 2.356659957194961\n",
      "n 66 p_value 2.4618298195866544\n",
      "n 67 p_value 2.809897220195021\n",
      "n 68 p_value 1.6977493752543302\n",
      "n 69 p_value 0.6019292654288468\n",
      "n 70 p_value 2.629502940535666\n",
      "n 71 p_value 2.254885150568322\n",
      "n 72 p_value 2.592724864350674\n",
      "n 73 p_value 4.798687035041353\n",
      "n 74 p_value 2.5574480523640246\n",
      "n 75 p_value 3.1176914536239804\n",
      "n 76 p_value 1.1470786693528086\n",
      "n 77 p_value 0.569802882298189\n",
      "n 78 p_value 2.71746488194703\n",
      "n 79 p_value 1.687631851389035\n",
      "n 80 p_value 2.9068883707497264\n",
      "n 81 p_value 2.333333333333334\n",
      "n 82 p_value 3.9755349386944756\n",
      "n 83 p_value 1.6464638998453556\n",
      "n 84 p_value 2.182178902359924\n",
      "n 85 p_value 1.6269784336399216\n",
      "n 86 p_value 1.5096588248481384\n",
      "n 87 p_value 1.6081688022566913\n",
      "n 88 p_value 4.050813610756599\n",
      "n 89 p_value 2.0139959720120846\n",
      "n 90 p_value 2.9514591494904874\n",
      "n 91 p_value 1.362770287738493\n",
      "n 92 p_value 2.5021729686848975\n",
      "n 93 p_value 2.7997695757721477\n",
      "n 94 p_value 2.4754109910211035\n",
      "n 95 p_value 1.9493588689617922\n",
      "n 96 p_value 2.449489742783178\n",
      "n 97 p_value 1.9291577137538758\n",
      "n 98 p_value 4.64670170494017\n",
      "n 99 p_value 0.7035264706814486\n",
      "n 100 p_value 3.2000000000000006\n",
      "n 101 p_value 0.696526033146993\n",
      "n 102 p_value 3.564531154716028\n",
      "n 103 p_value 2.6603890510435924\n",
      "n 104 p_value 0.9805806756909211\n",
      "n 105 p_value 2.4397501823713332\n",
      "n 106 p_value 1.7483145522430752\n",
      "n 107 p_value 3.5769250094689546\n",
      "n 108 p_value 4.233901974057256\n",
      "n 109 p_value 1.4367394278317278\n",
      "n 110 p_value 4.195235392680606\n",
      "n 111 p_value 2.942389786832747\n",
      "n 112 p_value 2.8347335475692037\n",
      "n 113 p_value 1.0347929552219564\n",
      "n 114 p_value 1.311220136214371\n",
      "n 115 p_value 2.1447610589527213\n",
      "n 116 p_value 5.199469468957453\n",
      "n 117 p_value 2.3112508176051203\n",
      "n 118 p_value 4.0505283187526215\n",
      "n 119 p_value 2.658425641381813\n",
      "n 120 p_value 3.8340579025361636\n",
      "n 121 p_value 3.727272727272727\n",
      "n 122 p_value 2.172857905020445\n",
      "n 123 p_value 3.1558437213360144\n",
      "n 124 p_value 2.1552636243212993\n",
      "n 125 p_value 1.3416407864998752\n",
      "n 126 p_value 2.8507865803991934\n",
      "n 127 p_value 2.928276481073175\n",
      "n 128 p_value 2.4748737341529163\n",
      "n 129 p_value 2.729397809609434\n",
      "n 130 p_value 3.683643681089522\n",
      "n 131 p_value 2.5337417643170106\n",
      "n 132 p_value 3.133397807202561\n",
      "n 133 p_value 3.2083068872392446\n",
      "n 134 p_value 1.5549631660464476\n",
      "n 135 p_value 2.668055194053998\n",
      "n 136 p_value 1.8864844365675983\n",
      "n 137 p_value 2.9902518020086637\n",
      "n 138 p_value 1.0215078369104975\n",
      "n 139 p_value 3.47757461168788\n",
      "n 140 p_value 4.056740422696878\n",
      "n 141 p_value 2.4422405710929045\n",
      "n 142 p_value 3.356725433186757\n",
      "n 143 p_value 3.5958406430304897\n",
      "n 144 p_value 2.833333333333334\n",
      "n 145 p_value 2.574409875465939\n",
      "n 146 p_value 3.475944732129946\n",
      "n 147 p_value 3.381623005253523\n",
      "n 148 p_value 1.9727878476642862\n",
      "n 149 p_value 1.7203870330899838\n",
      "n 150 p_value 3.10268700752536\n",
      "n 151 p_value 3.8248057562244497\n",
      "n 152 p_value 2.757764159222962\n",
      "n 153 p_value 4.446486458999439\n",
      "n 154 p_value 2.578633484881218\n",
      "n 155 p_value 2.9719115169392465\n",
      "n 156 p_value 2.72217861468648\n",
      "n 157 p_value 4.070243110784872\n",
      "n 158 p_value 4.296009334548943\n",
      "n 159 p_value 2.9342908671571326\n",
      "n 160 p_value 2.3717082451262845\n",
      "n 161 p_value 2.285520178093392\n",
      "n 162 p_value 3.614101326064575\n",
      "n 163 p_value 3.054715754953033\n",
      "n 164 p_value 2.967301475883515\n",
      "n 165 p_value 3.036145882229939\n",
      "n 166 p_value 3.57029241824913\n",
      "n 167 p_value 2.5536166673626504\n",
      "n 168 p_value 2.9317636492797474\n",
      "n 169 p_value 3.4615384615384617\n",
      "n 170 p_value 5.061968926392645\n",
      "n 171 p_value 3.2882921854780527\n",
      "n 172 p_value 1.6774842736586513\n",
      "n 173 p_value 2.8130579086979095\n",
      "n 174 p_value 3.1840117830313948\n",
      "n 175 p_value 2.1921939434535176\n",
      "n 176 p_value 3.467380462644283\n",
      "n 177 p_value 3.3824071260127297\n",
      "n 178 p_value 4.347283796175995\n",
      "n 179 p_value 3.6624319544844854\n",
      "n 180 p_value 2.8323527714997327\n",
      "n 181 p_value 3.1961648288628144\n",
      "n 182 p_value 3.4097468566410654\n",
      "n 183 p_value 3.622184227677408\n",
      "n 184 p_value 1.7693034738587645\n",
      "n 185 p_value 4.190723345934704\n",
      "n 186 p_value 3.079589415448419\n",
      "n 187 p_value 4.607016272000924\n",
      "n 188 p_value 3.354894804451576\n",
      "n 189 p_value 3.5642255405212095\n",
      "n 190 p_value 3.3371907505060547\n",
      "n 191 p_value 2.966655881698928\n",
      "n 192 p_value 4.0414518843273814\n",
      "n 193 p_value 3.095207728219385\n",
      "n 194 p_value 3.58979079308869\n",
      "n 195 p_value 4.511523706448426\n",
      "n 196 p_value 2.1428571428571437\n",
      "n 197 p_value 3.4911054494075717\n",
      "n 198 p_value 2.8426762180748053\n",
      "n 199 p_value 4.749504073555851\n"
     ]
    }
   ],
   "source": [
    "## Find the critical value of n for which I can't reject H_O\n",
    "\n",
    "for n in range(1,200,1):\n",
    "    sample = db_trunc.sample(n=n)\n",
    "    sample = sample.transform(lambda x : 1 if x=='B' else 0)\n",
    "    X_mean = sample.sum(axis = 0)/(len(sample))\n",
    "\n",
    "    p_value = (np.sqrt(n) * (X_mean -1/2))/(1/2)\n",
    "    print(f\"n {n} p_value {p_value}\")\n"
   ]
  }
 ],
 "metadata": {
  "kernelspec": {
   "display_name": "base",
   "language": "python",
   "name": "python3"
  },
  "language_info": {
   "codemirror_mode": {
    "name": "ipython",
    "version": 3
   },
   "file_extension": ".py",
   "mimetype": "text/x-python",
   "name": "python",
   "nbconvert_exporter": "python",
   "pygments_lexer": "ipython3",
   "version": "3.8.3"
  }
 },
 "nbformat": 4,
 "nbformat_minor": 5
}
